{
 "cells": [
  {
   "cell_type": "code",
   "execution_count": 120,
   "metadata": {
    "collapsed": false
   },
   "outputs": [],
   "source": [
    "from robobrowser import RoboBrowser\n",
    "import re\n",
    "from datetime import datetime"
   ]
  },
  {
   "cell_type": "code",
   "execution_count": 121,
   "metadata": {
    "collapsed": true
   },
   "outputs": [],
   "source": [
    "test_t = 1535306400\n",
    "t1 = 1541246400\n",
    "t2 = t1+ 3600*5\n",
    "t3 = t2 + 3600"
   ]
  },
  {
   "cell_type": "code",
   "execution_count": 127,
   "metadata": {
    "collapsed": false
   },
   "outputs": [
    {
     "data": {
      "text/plain": [
       "1535302800.0"
      ]
     },
     "execution_count": 127,
     "metadata": {},
     "output_type": "execute_result"
    }
   ],
   "source": [
    "dt = datetime(2018,8,26,18)\n",
    "dt.timestamp()"
   ]
  },
  {
   "cell_type": "code",
   "execution_count": 43,
   "metadata": {
    "collapsed": false
   },
   "outputs": [],
   "source": [
    "REQ_URL = 'http://dongree.xsrv.jp/kichikichi/reserve/%E4%BA%88%E7%B4%84%E3%82%AB%E3%83%AC%E3%83%B3%E3%83%80%E3%83%BC/?ymd='\n",
    "BOOKING_URL = 'http://dongree.xsrv.jp/kichikichi/reserve/booking-form/?aid=6&utm='\n"
   ]
  },
  {
   "cell_type": "code",
   "execution_count": 135,
   "metadata": {
    "collapsed": false
   },
   "outputs": [],
   "source": [
    "#'http://dongree.xsrv.jp/kichikichi/reserve/booking-form/?aid=6&utm='\n",
    "def make_booking(url, num_people, lead_name, hotel_name, email, country, tel):\n",
    "    print ('url=', url)\n",
    "    browser = RoboBrowser(history=False, user_agent='Mozilla/5.0 (X11; Linux x86_64)')\n",
    "    browser.open(url)\n",
    "    \n",
    "    # some error handling\n",
    "    err = browser.select('div.entry-content')\n",
    "    if len(err) > 0 and '指定日時の予約受け付けは終了しました。' in str(err[0]):\n",
    "        return -2 #'Reservation ended'\n",
    "    elif '指定時間は予約を受け付けておりません' in str(err[0]):\n",
    "        return -3 # Reservation not accepted \n",
    "    elif '予約受付期間外です' in str(err[0]):\n",
    "        return -4 # Outside reservation period\n",
    "    else:\n",
    "        returen -99 # unknown error\n",
    "        \n",
    "    form = browser.get_form()\n",
    "\n",
    "    #fill form\n",
    "    form['booking[client][adult]'].value = num_people\n",
    "    form['booking[client][name]'].value = lead_name\n",
    "    form['booking[client][company]'].value = hotel_name\n",
    "    form['booking[client][email]'].value = email\n",
    "    form['booking[client][email2]'].value = email\n",
    "    form['booking[client][country]'].value = country\n",
    "    form['booking[client][tel]'].value = tel\n",
    "    json = form.serialize()\n",
    "    browser.submit_form(form)\n",
    "    \n",
    "    err = browser.select('div.error-message')\n",
    "    if len(err) > 0 and '定員オーバーのため予約不可です' in str(err[0]):\n",
    "            return -1 # capacity over\n",
    "    # get pass confirmation page\n",
    "#     form2 = browser.get_form()\n",
    "#     json2 = form2.serialize()\n",
    "#     browser.submit_form(form2)\n",
    "    \n",
    "    \n",
    "    return 0 # success!"
   ]
  },
  {
   "cell_type": "code",
   "execution_count": 136,
   "metadata": {
    "collapsed": false
   },
   "outputs": [
    {
     "name": "stdout",
     "output_type": "stream",
     "text": [
      "url= http://dongree.xsrv.jp/kichikichi/reserve/booking-form/?aid=6&utm=1541268000\n",
      "-4\n"
     ]
    },
    {
     "name": "stderr",
     "output_type": "stream",
     "text": [
      "/Users/wei/anaconda3/envs/jupyter/lib/python3.5/site-packages/robobrowser/browser.py:40: UserWarning: No parser was explicitly specified, so I'm using the best available HTML parser for this system (\"html.parser\"). This usually isn't a problem, but if you run this code on another system, or in a different virtual environment, it may use a different parser and behave differently.\n",
      "\n",
      "The code that caused this warning is on line 40 of the file /Users/wei/anaconda3/envs/jupyter/lib/python3.5/site-packages/robobrowser/browser.py. To get rid of this warning, pass the additional argument 'features=\"html.parser\"' to the BeautifulSoup constructor.\n",
      "\n",
      "  features=self.browser.parser,\n"
     ]
    }
   ],
   "source": [
    "time_url=str(t3)\n",
    "ret = make_booking(BOOKING_URL+time_url, '1', 'Lucy', 'N/A', 'mrs.shopper@outlook.com', 'UK', '00447874382818')\n",
    "print (ret)"
   ]
  },
  {
   "cell_type": "code",
   "execution_count": null,
   "metadata": {
    "collapsed": false
   },
   "outputs": [],
   "source": []
  },
  {
   "cell_type": "code",
   "execution_count": null,
   "metadata": {
    "collapsed": true
   },
   "outputs": [],
   "source": []
  }
 ],
 "metadata": {
  "anaconda-cloud": {},
  "kernelspec": {
   "display_name": "Python [conda env:jupyter]",
   "language": "python",
   "name": "conda-env-jupyter-py"
  },
  "language_info": {
   "codemirror_mode": {
    "name": "ipython",
    "version": 3
   },
   "file_extension": ".py",
   "mimetype": "text/x-python",
   "name": "python",
   "nbconvert_exporter": "python",
   "pygments_lexer": "ipython3",
   "version": "3.5.2"
  },
  "nav_menu": {},
  "toc": {
   "navigate_menu": true,
   "number_sections": true,
   "sideBar": true,
   "threshold": 6.0,
   "toc_cell": false,
   "toc_section_display": "block",
   "toc_window_display": false
  }
 },
 "nbformat": 4,
 "nbformat_minor": 2
}
